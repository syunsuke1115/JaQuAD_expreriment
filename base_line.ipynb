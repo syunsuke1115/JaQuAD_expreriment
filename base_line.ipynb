{
 "cells": [
  {
   "cell_type": "markdown",
   "metadata": {},
   "source": [
    "# 公式ベースラインモデル\n",
    "\n",
    "https://huggingface.co/SkelterLabsInc/bert-base-japanese-jaquad\n"
   ]
  },
  {
   "cell_type": "code",
   "execution_count": 1,
   "metadata": {},
   "outputs": [],
   "source": [
    "import torch\n",
    "from transformers import AutoModelForQuestionAnswering, AutoTokenizer"
   ]
  },
  {
   "cell_type": "code",
   "execution_count": 2,
   "metadata": {},
   "outputs": [],
   "source": [
    "model = AutoModelForQuestionAnswering.from_pretrained(\n",
    "    'SkelterLabsInc/bert-base-japanese-jaquad')\n",
    "tokenizer = AutoTokenizer.from_pretrained(\n",
    "    'SkelterLabsInc/bert-base-japanese-jaquad')"
   ]
  },
  {
   "cell_type": "code",
   "execution_count": 3,
   "metadata": {},
   "outputs": [],
   "source": [
    "question = '東京大学のキャンパスはどこにあるの？'\n",
    "context = '東京大学は、主な3つのキャンパスごとに教育内容・研究内容を異にする。教育内容の面では、主に教養課程を実施する駒場キャンパス、専門教育を行う本郷キャンパス、主に大学院課程の教育を行う柏キャンパスに分けられる。また研究内容の面では、学際的な研究を行う駒場キャンパス、伝統的な学問領域の研究を行う本郷キャンパス、新しい学問領域の研究を行う柏キャンパスに分けられる。こうしたキャンパス分立体制は、学部ごとにキャンパスを分立することの多い他の大学と比べると珍しい形態である。さらに、現在でも学部入学時の教養課程を分化して設置していることも、日本国内の大学では珍しい存在となっている[注釈 1]。'"
   ]
  },
  {
   "cell_type": "code",
   "execution_count": 4,
   "metadata": {},
   "outputs": [],
   "source": [
    "inputs = tokenizer(\n",
    "    question, context, add_special_tokens=True, return_tensors=\"pt\")\n",
    "input_ids = inputs[\"input_ids\"].tolist()[0]\n",
    "outputs = model(**inputs)\n",
    "answer_start_scores = outputs.start_logits\n",
    "answer_end_scores = outputs.end_logits"
   ]
  },
  {
   "cell_type": "code",
   "execution_count": 5,
   "metadata": {},
   "outputs": [
    {
     "data": {
      "text/plain": [
       "'駒場 キャンパス 、 専門 教育 を 行う 本郷 キャンパス 、 主 に 大学院 課程 の 教育 を 行う 柏 キャンパス に'"
      ]
     },
     "execution_count": 5,
     "metadata": {},
     "output_type": "execute_result"
    }
   ],
   "source": [
    "# Get the most likely beginning of answer with the argmax of the score.\n",
    "answer_start = torch.argmax(answer_start_scores)\n",
    "\n",
    "answer_end = torch.argmax(answer_end_scores) + 1\n",
    "# Get the most likely end of answer with the argmax of the score.\n",
    "# 1 is added to `answer_end` because the index pointed by score is inclusive.\n",
    "\n",
    "answer = tokenizer.convert_tokens_to_string(\n",
    "    tokenizer.convert_ids_to_tokens(input_ids[answer_start:answer_end]))\n",
    "answer\n"
   ]
  }
 ],
 "metadata": {
  "interpreter": {
   "hash": "d4d1e4263499bec80672ea0156c357c1ee493ec2b1c70f0acce89fc37c4a6abe"
  },
  "kernelspec": {
   "display_name": "Python 3.7.12 ('base')",
   "language": "python",
   "name": "python3"
  },
  "language_info": {
   "codemirror_mode": {
    "name": "ipython",
    "version": 3
   },
   "file_extension": ".py",
   "mimetype": "text/x-python",
   "name": "python",
   "nbconvert_exporter": "python",
   "pygments_lexer": "ipython3",
   "version": "3.7.12"
  },
  "orig_nbformat": 4
 },
 "nbformat": 4,
 "nbformat_minor": 2
}
