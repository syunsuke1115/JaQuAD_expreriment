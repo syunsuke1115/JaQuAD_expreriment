{
  "cells": [
    {
      "cell_type": "markdown",
      "metadata": {
        "id": "CEvslqjDCiUM"
      },
      "source": [
        "## Installation"
      ]
    },
    {
      "cell_type": "code",
      "execution_count": 13,
      "metadata": {
        "id": "533xQ1HdZBhv"
      },
      "outputs": [
        {
          "name": "stdout",
          "output_type": "stream",
          "text": [
            "Make sure to select TPU from Edit > Notebook settings > Hardware accelerator\n"
          ]
        }
      ],
      "source": [
        "import os\n",
        "\n",
        "if not os.environ.get('COLAB_TPU_ADDR'):\n",
        "    print('Make sure to select TPU from Edit > Notebook settings > Hardware accelerator')"
      ]
    },
    {
      "cell_type": "markdown",
      "metadata": {
        "id": "65cwlByIqbVC"
      },
      "source": [
        "## Define model"
      ]
    },
    {
      "cell_type": "code",
      "execution_count": 14,
      "metadata": {
        "id": "GVNY-Mt3rSYn"
      },
      "outputs": [],
      "source": [
        "import os\n",
        "import string\n",
        "import unicodedata\n",
        "from typing import Any, Dict, Iterator, List, Tuple, Union\n",
        "\n",
        "\n",
        "import datasets\n",
        "import numpy as np\n",
        "from pytorch_lightning import LightningModule, Trainer, seed_everything\n",
        "import torch\n",
        "from torch.utils.data import DataLoader\n",
        "from torch.optim import lr_scheduler\n",
        "from transformers import AutoModelForQuestionAnswering, AutoTokenizer, AdamW"
      ]
    },
    {
      "cell_type": "code",
      "execution_count": 15,
      "metadata": {
        "colab": {
          "base_uri": "https://localhost:8080/"
        },
        "id": "cmT8NWJbrVFa",
        "outputId": "989e2fd5-8b6c-4cb8-cb76-d602e1a156c6"
      },
      "outputs": [
        {
          "data": {
            "text/plain": [
              "{'random_seed': 42,\n",
              " 'pretrained_model': 'cl-tohoku/bert-base-japanese-whole-word-masking',\n",
              " 'pretrained_tokenizer': '',\n",
              " 'norm_form': 'NFKC',\n",
              " 'batch_size': 32,\n",
              " 'lr': 2e-05,\n",
              " 'max_length': 384,\n",
              " 'doc_stride': 128,\n",
              " 'epochs': 4,\n",
              " 'dataset': 'SkelterLabsInc/JaQuAD',\n",
              " 'huggingface_auth_token': None,\n",
              " 'test_mode': False,\n",
              " 'optimizer': 'AdamW',\n",
              " 'weight_decay': 0.01,\n",
              " 'lr_scheduler': 'warmup_lin',\n",
              " 'warmup_ratio': 0.1,\n",
              " 'fp16': False,\n",
              " 'tpu_cores': 8,\n",
              " 'cpu_workers': 4}"
            ]
          },
          "execution_count": 15,
          "metadata": {},
          "output_type": "execute_result"
        }
      ],
      "source": [
        "args = {\n",
        "    'random_seed': 42,  # Random Seed\n",
        "    # Transformers PLM name.\n",
        "    'pretrained_model': 'cl-tohoku/bert-base-japanese-whole-word-masking',\n",
        "    # Optional, Transformers Tokenizer name. Overrides `pretrained_model`\n",
        "    'pretrained_tokenizer': '',\n",
        "    'norm_form': 'NFKC',\n",
        "    'batch_size': 32,  # <=32 for TPUv2-8\n",
        "    'lr': 2e-5,  # Learning Rate\n",
        "    'max_length': 384,  # Max Length input size\n",
        "    'doc_stride': 128,  # The interval of the context when splitting is needed\n",
        "    'epochs': 4,  # Max Epochs\n",
        "    'dataset': 'SkelterLabsInc/JaQuAD',\n",
        "    'huggingface_auth_token': None,\n",
        "    'test_mode': False,  # Test Mode enables `fast_dev_run`\n",
        "    'optimizer': 'AdamW',\n",
        "    'weight_decay': 0.01,  # Weight decaying parameter for AdamW\n",
        "    'lr_scheduler': 'warmup_lin',\n",
        "    'warmup_ratio': 0.1,\n",
        "    'fp16': False,  # Enable train on FP16 (if GPU)\n",
        "    'tpu_cores': 8,  # Enable TPU with 1 core or 8 cores\n",
        "    'cpu_workers': os.cpu_count(),\n",
        "}\n",
        "\n",
        "args"
      ]
    },
    {
      "cell_type": "code",
      "execution_count": 16,
      "metadata": {
        "id": "YYsBE7rf0Fm6"
      },
      "outputs": [],
      "source": [
        "class WarmupLinearLR(lr_scheduler.LambdaLR):\n",
        "    '''The learning rate is linearly increased for the first `warmup_steps`\n",
        "    and linearly decreased to zero afterward.\n",
        "    '''\n",
        "\n",
        "    def __init__(self, optimizer, warmup_steps, max_steps, last_epoch=-1):\n",
        "\n",
        "        def lr_lambda(step):\n",
        "            if step < warmup_steps:\n",
        "                return float(step) / float(max(1.0, warmup_steps))\n",
        "            ratio = 1 - float(step - warmup_steps) / float(max_steps -\n",
        "                                                           warmup_steps)\n",
        "            return max(0.0, min(1.0, ratio))\n",
        "\n",
        "        super().__init__(optimizer, lr_lambda, last_epoch=last_epoch)"
      ]
    },
    {
      "cell_type": "code",
      "execution_count": 17,
      "metadata": {
        "id": "Ke6TdX1EX26I"
      },
      "outputs": [],
      "source": [
        "def make_spans(\n",
        "    inputs: Dict[str, Union[int, List[int]]],\n",
        "    question_len: int,\n",
        "    max_seq_len: int,\n",
        "    stride: int,\n",
        "    answer_start_position: int = -1,\n",
        "    answer_end_position: int = -1\n",
        ") -> Iterator[Tuple[Dict[str, List[int]], Tuple[int, int]]]:\n",
        "    input_len = len(inputs['input_ids'])\n",
        "    context_len = input_len - question_len\n",
        "\n",
        "    def make_value(input_list, i, padding=0):\n",
        "        context_end = min(max_seq_len - question_len, context_len - i)\n",
        "        pad_len = max_seq_len - question_len - context_end\n",
        "        val = input_list[:question_len]\n",
        "        val += input_list[question_len + i:question_len + i + context_end]\n",
        "        val[-1] = input_list[-1]\n",
        "        val += [padding] * pad_len\n",
        "        return val\n",
        "\n",
        "    for i in range(0, input_len - max_seq_len + stride, stride):\n",
        "        span = {key: make_value(val, i) for key, val in inputs.items()}\n",
        "        answer_start = answer_start_position - i\n",
        "        answer_end = answer_end_position - i\n",
        "        if answer_start < question_len or answer_end >= max_seq_len - 1:\n",
        "            answer_start = answer_end = 0\n",
        "        yield span, (answer_start, answer_end)"
      ]
    },
    {
      "cell_type": "code",
      "execution_count": 18,
      "metadata": {},
      "outputs": [],
      "source": [
        "def get_offsets(input_ids: List[int],\n",
        "                context: str,\n",
        "                tokenizer: AutoTokenizer,\n",
        "                norm_form='NFKC') -> List[Tuple[int, int]]:\n",
        "    '''The character-level start/end offsets of a token within a context.\n",
        "    Algorithm:\n",
        "    1. Make offsets of normalized context within the original context.\n",
        "    2. Make offsets of tokens (input_ids) within the normalized context.\n",
        "\n",
        "    Arguments:\n",
        "    input_ids -- Token ids of tokenized context (by tokenizer).\n",
        "    context -- String of context\n",
        "    tokenizer\n",
        "    norm_form\n",
        "\n",
        "    Return:\n",
        "        List[Tuple[int, int]]: Offsets of tokens within the input context.\n",
        "        For each token, the offsets are presented as a tuple of (start\n",
        "        position index, end position index). Both indices are inclusive.\n",
        "    '''\n",
        "    cxt_start = input_ids.index(tokenizer.sep_token_id) + 1\n",
        "    cxt_end = cxt_start + input_ids[cxt_start:].index(tokenizer.sep_token_id)\n",
        "    tokens = tokenizer.convert_ids_to_tokens(input_ids[cxt_start:cxt_end])\n",
        "    tokens = [tok[2:] if tok.startswith('##') else tok for tok in tokens]\n",
        "    whitespace = string.whitespace + '\\u3000'\n",
        "\n",
        "    # 1. Make offsets of normalized context within the original context.\n",
        "    offsets_norm_context = []\n",
        "    norm_context = ''\n",
        "    for idx, char in enumerate(context):\n",
        "        norm_char = unicodedata.normalize(norm_form, char)\n",
        "        norm_context += norm_char\n",
        "        offsets_norm_context.extend([idx] * len(norm_char))\n",
        "    norm_context_org = unicodedata.normalize(norm_form, context)\n",
        "    assert norm_context == norm_context_org, \\\n",
        "        'Normalized contexts are not the same: ' \\\n",
        "        + f'{norm_context} != {norm_context_org}'\n",
        "    assert len(norm_context) == len(offsets_norm_context), \\\n",
        "        'Normalized contexts have different numbers of tokens: ' \\\n",
        "        + f'{len(norm_context)} != {len(offsets_norm_context)}'\n",
        "\n",
        "    # 2. Make offsets of tokens (input_ids) within the normalized context.\n",
        "    offsets_token = []\n",
        "    unk_pointer = None\n",
        "    cid = 0\n",
        "    tid = 0\n",
        "    while tid < len(tokens):\n",
        "        cur_token = tokens[tid]\n",
        "        if cur_token == tokenizer.unk_token:\n",
        "            unk_pointer = tid\n",
        "            offsets_token.append([cid, cid])\n",
        "            cid += 1\n",
        "        elif norm_context[cid:cid + len(cur_token)] != cur_token:\n",
        "            # Wrong offsets of the previous UNK token\n",
        "            assert unk_pointer is not None, \\\n",
        "                'Normalized context and tokens are not matched'\n",
        "            prev_unk_expected = offsets_token[unk_pointer]\n",
        "            prev_unk_expected[1] += norm_context[prev_unk_expected[1] + 2:]\\\n",
        "                .index(tokens[unk_pointer + 1]) + 1\n",
        "            tid = unk_pointer\n",
        "            offsets_token = offsets_token[:tid] + [prev_unk_expected]\n",
        "            cid = prev_unk_expected[1] + 1\n",
        "        else:\n",
        "            start_pos = norm_context[cid:].index(cur_token)\n",
        "            if start_pos > 0 and tokens[tid - 1] == tokenizer.unk_token:\n",
        "                offsets_token[-1][1] += start_pos\n",
        "                cid += start_pos\n",
        "                start_pos = 0\n",
        "            assert start_pos == 0, f'{start_pos} != 0 (cur: {cur_token}'\n",
        "            offsets_token.append([cid, cid + len(cur_token) - 1])\n",
        "            cid += len(cur_token)\n",
        "            while cid < len(norm_context) and norm_context[cid] in whitespace:\n",
        "                offsets_token[-1][1] += 1\n",
        "                cid += 1\n",
        "        tid += 1\n",
        "    if tokens[-1] == tokenizer.unk_token:\n",
        "        offsets_token[-1][1] = len(norm_context) - 1\n",
        "    else:\n",
        "        assert cid == len(norm_context) == offsets_token[-1][1] + 1, \\\n",
        "            'Offsets do not include all characters'\n",
        "    assert len(offsets_token) == len(tokens), \\\n",
        "        'The numbers of tokens and offsets are different'\n",
        "\n",
        "    offsets_mapping = [(offsets_norm_context[start], offsets_norm_context[end])\n",
        "                       for start, end in offsets_token]\n",
        "    return [(-1, -1)] * cxt_start + offsets_mapping"
      ]
    },
    {
      "cell_type": "code",
      "execution_count": 19,
      "metadata": {
        "id": "erLcpPrsYJTN"
      },
      "outputs": [],
      "source": [
        "class QAModel(LightningModule):\n",
        "    def __init__(self, **kwargs):\n",
        "        super().__init__()\n",
        "        self.save_hyperparameters()  # kwargs are saved in self.hparams\n",
        "        self.automatic_optimization = False\n",
        "\n",
        "        self.question_answerer = AutoModelForQuestionAnswering.from_pretrained(\n",
        "            self.hparams.pretrained_model,\n",
        "            use_auth_token=self.hparams.huggingface_auth_token)\n",
        "        self.tokenizer = AutoTokenizer.from_pretrained(\n",
        "            self.hparams.pretrained_tokenizer\n",
        "            if self.hparams.pretrained_tokenizer else\n",
        "            self.hparams.pretrained_model,\n",
        "            use_auth_token=self.hparams.huggingface_auth_token)\n",
        "\n",
        "    def forward(self, **kwargs):\n",
        "        return self.question_answerer(**kwargs)\n",
        "\n",
        "    def step(self, batch, batch_idx):\n",
        "        outputs = self(**batch)\n",
        "\n",
        "        loss = outputs.loss\n",
        "        start_preds = outputs.start_logits.argmax(dim=-1).cpu().detach()\n",
        "        end_preds = outputs.end_logits.argmax(dim=-1).cpu().detach()\n",
        "        start_positions = batch['start_positions'].cpu().detach()\n",
        "        end_positions = batch['end_positions'].cpu().detach()\n",
        "\n",
        "        return {\n",
        "            'loss': loss,\n",
        "            'start_preds': start_preds,\n",
        "            'end_preds': end_preds,\n",
        "            'start_positions': start_positions,\n",
        "            'end_positions': end_positions,\n",
        "        }\n",
        "\n",
        "    def training_step(self, batch, batch_idx):\n",
        "        opt = self.optimizers()\n",
        "        opt.zero_grad()\n",
        "        outputs = self.step(batch, batch_idx)\n",
        "        self.manual_backward(outputs['loss'])\n",
        "        opt.step()\n",
        "\n",
        "        # single scheduler\n",
        "        sch = self.lr_schedulers()\n",
        "        sch.step()\n",
        "        return outputs\n",
        "\n",
        "    def validation_step(self, batch, batch_idx):\n",
        "        return self.step(batch, batch_idx)\n",
        "\n",
        "    @staticmethod\n",
        "    def calculate_f1_score(start_positions, end_positions, start_preds,\n",
        "                           end_preds):\n",
        "        start_overlap = np.maximum(start_positions, start_preds)\n",
        "        start_overlap = np.maximum(start_positions, start_preds)\n",
        "        end_overlap = np.minimum(end_positions, end_preds)\n",
        "        overlap = np.maximum(end_overlap - start_overlap + 1, 0)\n",
        "\n",
        "        pred_token_count = np.maximum(end_preds - start_preds + 1, 0)\n",
        "        ground_token_count = np.maximum(end_positions - start_positions + 1, 0)\n",
        "\n",
        "        precision = torch.nan_to_num(overlap / pred_token_count, nan=0.)\n",
        "        recall = torch.nan_to_num(overlap / ground_token_count, nan=0.)\n",
        "        f1 = torch.nan_to_num(\n",
        "            2 * precision * recall / (precision + recall), nan=0.)\n",
        "        return {\n",
        "            'precision': precision,\n",
        "            'recall': recall,\n",
        "            'f1': f1,\n",
        "        }\n",
        "\n",
        "    @staticmethod\n",
        "    def calculate_exact_match(start_positions, end_positions, start_preds,\n",
        "                              end_preds):\n",
        "        equal_start = (start_preds == start_positions)\n",
        "        equal_end = (end_preds == end_positions)\n",
        "        return (equal_start * equal_end).type(torch.float)\n",
        "\n",
        "    def epoch_end(self, outputs, state='train'):\n",
        "        loss = torch.tensor(0, dtype=torch.float)\n",
        "        precision = torch.tensor(0, dtype=torch.float)\n",
        "        recall = torch.tensor(0, dtype=torch.float)\n",
        "        f1 = torch.tensor(0, dtype=torch.float)\n",
        "        em = torch.tensor(0, dtype=torch.float)\n",
        "\n",
        "        for i in outputs:\n",
        "            loss += i['loss'].cpu().detach()\n",
        "            f1_metrics = self.calculate_f1_score(i['start_positions'],\n",
        "                                                 i['end_positions'],\n",
        "                                                 i['start_preds'],\n",
        "                                                 i['end_preds'])\n",
        "            precision += f1_metrics['precision'].mean()\n",
        "            recall += f1_metrics['recall'].mean()\n",
        "            f1 += f1_metrics['f1'].mean()\n",
        "            em += self.calculate_exact_match(i['start_positions'],\n",
        "                                             i['end_positions'],\n",
        "                                             i['start_preds'],\n",
        "                                             i['end_preds']).mean()\n",
        "        loss = loss / len(outputs)\n",
        "        precision = precision / len(outputs)\n",
        "        recall = recall / len(outputs)\n",
        "        f1 = f1 / len(outputs)\n",
        "        em = em / len(outputs)\n",
        "        metrics = {\n",
        "            state + '_loss': float(loss),\n",
        "            state + '_precision': precision,\n",
        "            state + '_recall': recall,\n",
        "            state + '_f1': f1,\n",
        "            state + '_em': em,\n",
        "        }\n",
        "\n",
        "        self.log_dict(metrics, on_epoch=True)\n",
        "\n",
        "        return metrics\n",
        "\n",
        "    def training_epoch_end(self, outputs):\n",
        "        self.epoch_end(outputs, state='train')\n",
        "\n",
        "    def validation_epoch_end(self, outputs):\n",
        "        self.epoch_end(outputs, state='val')\n",
        "\n",
        "    def configure_optimizers(self):\n",
        "        if self.hparams.optimizer == 'AdamW':\n",
        "            optimizer = AdamW(\n",
        "                self.parameters(),\n",
        "                lr=self.hparams.lr,\n",
        "                weight_decay=self.hparams.weight_decay)\n",
        "        else:\n",
        "            raise NotImplementedError('Only AdamW is Supported!')\n",
        "\n",
        "        if self.hparams.lr_scheduler == 'cos':\n",
        "            scheduler = lr_scheduler.CosineAnnealingWarmRestarts(\n",
        "                optimizer, T_0=1, T_mult=2)\n",
        "        elif self.hparams.lr_scheduler == 'exp':\n",
        "            scheduler = lr_scheduler.ExponentialLR(optimizer, gamma=0.5)\n",
        "        elif self.hparams.lr_scheduler == 'warmup_lin':\n",
        "            steps_per_epoch = len(self.train_dataloader())\n",
        "            if os.environ.get('COLAB_TPU_ADDR'):\n",
        "                steps_per_epoch = steps_per_epoch // self.hparams.tpu_cores\n",
        "            total_steps = steps_per_epoch * self.hparams.epochs\n",
        "            warmup_steps = int(total_steps * self.hparams.warmup_ratio)\n",
        "            scheduler = WarmupLinearLR(\n",
        "                optimizer, warmup_steps=warmup_steps, max_steps=total_steps)\n",
        "        else:\n",
        "            raise NotImplementedError(\n",
        "                'Only cos, exp, and warmup_lin lr scheduler is Supported!')\n",
        "\n",
        "        return [optimizer], [scheduler]\n",
        "\n",
        "    def preprocess_function(self, examples):\n",
        "        tokenized_examples = self.tokenizer(\n",
        "            examples['question'],\n",
        "            examples['context'],\n",
        "        )\n",
        "\n",
        "        inputs = {\n",
        "            'input_ids': [],\n",
        "            'attention_mask': [],\n",
        "            'token_type_ids': [],\n",
        "            'start_positions': [],\n",
        "            'end_positions': [],\n",
        "        }\n",
        "        for tokens, att_mask, type_ids, context, answer, start_char \\\n",
        "                in zip(tokenized_examples['input_ids'],\n",
        "                       tokenized_examples['attention_mask'],\n",
        "                       tokenized_examples['token_type_ids'],\n",
        "                       examples['context'],\n",
        "                       examples['answer'],\n",
        "                       examples['answer_start']):\n",
        "            answer = answer[0]\n",
        "            start_char = start_char[0]\n",
        "            offsets = get_offsets(tokens, context, self.tokenizer,\n",
        "                                  self.hparams.norm_form)\n",
        "\n",
        "            ctx_start = tokens.index(self.tokenizer.sep_token_id) + 1\n",
        "            answer_start_index = ctx_start\n",
        "            answer_end_index = len(offsets) - 1\n",
        "            while offsets[answer_start_index][0] < start_char:\n",
        "                answer_start_index += 1\n",
        "            while offsets[answer_end_index][1] > start_char + len(answer):\n",
        "                answer_end_index -= 1\n",
        "\n",
        "            span_inputs = {\n",
        "                'input_ids': tokens,\n",
        "                'attention_mask': att_mask,\n",
        "                'token_type_ids': type_ids,\n",
        "            }\n",
        "            for span, answer_idx in make_spans(\n",
        "                    span_inputs,\n",
        "                    question_len=ctx_start,\n",
        "                    max_seq_len=self.hparams.max_length,\n",
        "                    stride=self.hparams.doc_stride,\n",
        "                    answer_start_position=answer_start_index,\n",
        "                    answer_end_position=answer_end_index):\n",
        "                inputs['input_ids'].append(span['input_ids'])\n",
        "                inputs['attention_mask'].append(span['attention_mask'])\n",
        "                inputs['token_type_ids'].append(span['token_type_ids'])\n",
        "                inputs['start_positions'].append(answer_idx[0])\n",
        "                inputs['end_positions'].append(answer_idx[1])\n",
        "        return inputs\n",
        "\n",
        "    def prepare_data(self):\n",
        "        datasetdict = datasets.load_dataset(\n",
        "            self.hparams.dataset,\n",
        "            use_auth_token=self.hparams.huggingface_auth_token)\n",
        "        datasetdict = datasetdict.flatten()\\\n",
        "            .rename_column('answers.text', 'answer')\\\n",
        "            .rename_column('answers.answer_start', 'answer_start')\\\n",
        "            .rename_column('answers.answer_type', 'answer_type')\n",
        "\n",
        "        self.tokenized_dataset = datasetdict.map(\n",
        "            self.preprocess_function,\n",
        "            batched=True,\n",
        "            remove_columns=datasetdict['train'].column_names)\n",
        "\n",
        "    def dataloader(self, dataset, shuffle=False):\n",
        "        dataset.set_format(type='torch')\n",
        "\n",
        "        return DataLoader(\n",
        "            dataset,\n",
        "            batch_size=self.hparams.batch_size,\n",
        "            shuffle=shuffle,\n",
        "            num_workers=self.hparams.cpu_workers,\n",
        "        )\n",
        "\n",
        "    def train_dataloader(self):\n",
        "        return self.dataloader(self.tokenized_dataset['train'], shuffle=True)\n",
        "\n",
        "    def val_dataloader(self):\n",
        "        return self.dataloader(\n",
        "            self.tokenized_dataset['validation'], shuffle=False)\n"
      ]
    },
    {
      "cell_type": "markdown",
      "metadata": {
        "id": "nN41xPPunWQJ"
      },
      "source": [
        "## Start training"
      ]
    },
    {
      "cell_type": "code",
      "execution_count": 11,
      "metadata": {
        "id": "ZzpIpf64rZsA"
      },
      "outputs": [],
      "source": [
        "from pytorch_lightning import callbacks\n",
        "from pytorch_lightning import loggers\n",
        "\n",
        "checkpoint_callback = callbacks.ModelCheckpoint(\n",
        "    filename='val_loss{val_loss:.4f}-val_f1{val_f1:.4f}-epoch{epoch}',\n",
        "    monitor='val_loss',\n",
        "    mode='min',\n",
        "    save_top_k=5,\n",
        "    auto_insert_metric_name=False,\n",
        ")\n",
        "lr_callback = callbacks.LearningRateMonitor(logging_interval='step')"
      ]
    },
    {
      "cell_type": "code",
      "execution_count": 12,
      "metadata": {
        "colab": {
          "base_uri": "https://localhost:8080/"
        },
        "id": "_aPXGrWBnWQL",
        "outputId": "dc9a0eee-2b45-46c9-e980-2c2d8ab3859e"
      },
      "outputs": [
        {
          "name": "stderr",
          "output_type": "stream",
          "text": [
            "Global seed set to 42\n"
          ]
        },
        {
          "name": "stdout",
          "output_type": "stream",
          "text": [
            "Using PyTorch Ver 1.10.0\n",
            "Fix Seed: 42\n"
          ]
        },
        {
          "ename": "MisconfigurationException",
          "evalue": "No TPU devices were found.",
          "output_type": "error",
          "traceback": [
            "\u001b[0;31m---------------------------------------------------------------------------\u001b[0m",
            "\u001b[0;31mMisconfigurationException\u001b[0m                 Traceback (most recent call last)",
            "\u001b[0;32m/tmp/ipykernel_2899/1115143511.py\u001b[0m in \u001b[0;36m<module>\u001b[0;34m\u001b[0m\n\u001b[1;32m     17\u001b[0m     \u001b[0;31m# precision=16 if args['fp16'] and torch.cuda.is_available() else 32,\u001b[0m\u001b[0;34m\u001b[0m\u001b[0;34m\u001b[0m\u001b[0;34m\u001b[0m\u001b[0m\n\u001b[1;32m     18\u001b[0m     \u001b[0;31m# For TPU Setup\u001b[0m\u001b[0;34m\u001b[0m\u001b[0;34m\u001b[0m\u001b[0;34m\u001b[0m\u001b[0m\n\u001b[0;32m---> 19\u001b[0;31m     \u001b[0mtpu_cores\u001b[0m\u001b[0;34m=\u001b[0m\u001b[0margs\u001b[0m\u001b[0;34m[\u001b[0m\u001b[0;34m'tpu_cores'\u001b[0m\u001b[0;34m]\u001b[0m \u001b[0;32mif\u001b[0m \u001b[0margs\u001b[0m\u001b[0;34m[\u001b[0m\u001b[0;34m'tpu_cores'\u001b[0m\u001b[0;34m]\u001b[0m \u001b[0;32melse\u001b[0m \u001b[0;32mNone\u001b[0m\u001b[0;34m,\u001b[0m\u001b[0;34m\u001b[0m\u001b[0;34m\u001b[0m\u001b[0m\n\u001b[0m\u001b[1;32m     20\u001b[0m )\n",
            "\u001b[0;32m/opt/conda/lib/python3.7/site-packages/pytorch_lightning/trainer/connectors/env_vars_connector.py\u001b[0m in \u001b[0;36minsert_env_defaults\u001b[0;34m(self, *args, **kwargs)\u001b[0m\n\u001b[1;32m     36\u001b[0m \u001b[0;34m\u001b[0m\u001b[0m\n\u001b[1;32m     37\u001b[0m         \u001b[0;31m# all args were already moved to kwargs\u001b[0m\u001b[0;34m\u001b[0m\u001b[0;34m\u001b[0m\u001b[0;34m\u001b[0m\u001b[0m\n\u001b[0;32m---> 38\u001b[0;31m         \u001b[0;32mreturn\u001b[0m \u001b[0mfn\u001b[0m\u001b[0;34m(\u001b[0m\u001b[0mself\u001b[0m\u001b[0;34m,\u001b[0m \u001b[0;34m**\u001b[0m\u001b[0mkwargs\u001b[0m\u001b[0;34m)\u001b[0m\u001b[0;34m\u001b[0m\u001b[0;34m\u001b[0m\u001b[0m\n\u001b[0m\u001b[1;32m     39\u001b[0m \u001b[0;34m\u001b[0m\u001b[0m\n\u001b[1;32m     40\u001b[0m     \u001b[0;32mreturn\u001b[0m \u001b[0minsert_env_defaults\u001b[0m\u001b[0;34m\u001b[0m\u001b[0;34m\u001b[0m\u001b[0m\n",
            "\u001b[0;32m/opt/conda/lib/python3.7/site-packages/pytorch_lightning/trainer/trainer.py\u001b[0m in \u001b[0;36m__init__\u001b[0;34m(self, logger, checkpoint_callback, enable_checkpointing, callbacks, default_root_dir, gradient_clip_val, gradient_clip_algorithm, process_position, num_nodes, num_processes, devices, gpus, auto_select_gpus, tpu_cores, ipus, log_gpu_memory, progress_bar_refresh_rate, enable_progress_bar, overfit_batches, track_grad_norm, check_val_every_n_epoch, fast_dev_run, accumulate_grad_batches, max_epochs, min_epochs, max_steps, min_steps, max_time, limit_train_batches, limit_val_batches, limit_test_batches, limit_predict_batches, val_check_interval, flush_logs_every_n_steps, log_every_n_steps, accelerator, strategy, sync_batchnorm, precision, enable_model_summary, weights_summary, weights_save_path, num_sanity_val_steps, resume_from_checkpoint, profiler, benchmark, deterministic, reload_dataloaders_every_n_epochs, reload_dataloaders_every_epoch, auto_lr_find, replace_sampler_ddp, detect_anomaly, auto_scale_batch_size, prepare_data_per_node, plugins, amp_backend, amp_level, move_metrics_to_cpu, multiple_trainloader_mode, stochastic_weight_avg, terminate_on_nan)\u001b[0m\n\u001b[1;32m    424\u001b[0m         \u001b[0mself\u001b[0m\u001b[0;34m.\u001b[0m\u001b[0mstate\u001b[0m \u001b[0;34m=\u001b[0m \u001b[0mTrainerState\u001b[0m\u001b[0;34m(\u001b[0m\u001b[0;34m)\u001b[0m\u001b[0;34m\u001b[0m\u001b[0;34m\u001b[0m\u001b[0m\n\u001b[1;32m    425\u001b[0m \u001b[0;34m\u001b[0m\u001b[0m\n\u001b[0;32m--> 426\u001b[0;31m         \u001b[0mgpu_ids\u001b[0m\u001b[0;34m,\u001b[0m \u001b[0mtpu_cores\u001b[0m \u001b[0;34m=\u001b[0m \u001b[0mself\u001b[0m\u001b[0;34m.\u001b[0m\u001b[0m_parse_devices\u001b[0m\u001b[0;34m(\u001b[0m\u001b[0mgpus\u001b[0m\u001b[0;34m,\u001b[0m \u001b[0mauto_select_gpus\u001b[0m\u001b[0;34m,\u001b[0m \u001b[0mtpu_cores\u001b[0m\u001b[0;34m)\u001b[0m\u001b[0;34m\u001b[0m\u001b[0;34m\u001b[0m\u001b[0m\n\u001b[0m\u001b[1;32m    427\u001b[0m \u001b[0;34m\u001b[0m\u001b[0m\n\u001b[1;32m    428\u001b[0m         \u001b[0;31m# init connectors\u001b[0m\u001b[0;34m\u001b[0m\u001b[0;34m\u001b[0m\u001b[0;34m\u001b[0m\u001b[0m\n",
            "\u001b[0;32m/opt/conda/lib/python3.7/site-packages/pytorch_lightning/trainer/trainer.py\u001b[0m in \u001b[0;36m_parse_devices\u001b[0;34m(gpus, auto_select_gpus, tpu_cores)\u001b[0m\n\u001b[1;32m   1542\u001b[0m         \u001b[0;31m# TODO (@seannaren, @kaushikb11): Include IPU parsing logic here\u001b[0m\u001b[0;34m\u001b[0m\u001b[0;34m\u001b[0m\u001b[0;34m\u001b[0m\u001b[0m\n\u001b[1;32m   1543\u001b[0m         \u001b[0mgpu_ids\u001b[0m \u001b[0;34m=\u001b[0m \u001b[0mdevice_parser\u001b[0m\u001b[0;34m.\u001b[0m\u001b[0mparse_gpu_ids\u001b[0m\u001b[0;34m(\u001b[0m\u001b[0mgpus\u001b[0m\u001b[0;34m)\u001b[0m\u001b[0;34m\u001b[0m\u001b[0;34m\u001b[0m\u001b[0m\n\u001b[0;32m-> 1544\u001b[0;31m         \u001b[0mtpu_cores\u001b[0m \u001b[0;34m=\u001b[0m \u001b[0mdevice_parser\u001b[0m\u001b[0;34m.\u001b[0m\u001b[0mparse_tpu_cores\u001b[0m\u001b[0;34m(\u001b[0m\u001b[0mtpu_cores\u001b[0m\u001b[0;34m)\u001b[0m\u001b[0;34m\u001b[0m\u001b[0;34m\u001b[0m\u001b[0m\n\u001b[0m\u001b[1;32m   1545\u001b[0m         \u001b[0;32mreturn\u001b[0m \u001b[0mgpu_ids\u001b[0m\u001b[0;34m,\u001b[0m \u001b[0mtpu_cores\u001b[0m\u001b[0;34m\u001b[0m\u001b[0;34m\u001b[0m\u001b[0m\n\u001b[1;32m   1546\u001b[0m \u001b[0;34m\u001b[0m\u001b[0m\n",
            "\u001b[0;32m/opt/conda/lib/python3.7/site-packages/pytorch_lightning/utilities/device_parser.py\u001b[0m in \u001b[0;36mparse_tpu_cores\u001b[0;34m(tpu_cores)\u001b[0m\n\u001b[1;32m    117\u001b[0m \u001b[0;34m\u001b[0m\u001b[0m\n\u001b[1;32m    118\u001b[0m     \u001b[0;32mif\u001b[0m \u001b[0mtpu_cores\u001b[0m \u001b[0;32mis\u001b[0m \u001b[0;32mnot\u001b[0m \u001b[0;32mNone\u001b[0m \u001b[0;32mand\u001b[0m \u001b[0;32mnot\u001b[0m \u001b[0m_TPU_AVAILABLE\u001b[0m\u001b[0;34m:\u001b[0m\u001b[0;34m\u001b[0m\u001b[0;34m\u001b[0m\u001b[0m\n\u001b[0;32m--> 119\u001b[0;31m         \u001b[0;32mraise\u001b[0m \u001b[0mMisconfigurationException\u001b[0m\u001b[0;34m(\u001b[0m\u001b[0;34m\"No TPU devices were found.\"\u001b[0m\u001b[0;34m)\u001b[0m\u001b[0;34m\u001b[0m\u001b[0;34m\u001b[0m\u001b[0m\n\u001b[0m\u001b[1;32m    120\u001b[0m \u001b[0;34m\u001b[0m\u001b[0m\n\u001b[1;32m    121\u001b[0m     \u001b[0;32mreturn\u001b[0m \u001b[0mtpu_cores\u001b[0m\u001b[0;34m\u001b[0m\u001b[0;34m\u001b[0m\u001b[0m\n",
            "\u001b[0;31mMisconfigurationException\u001b[0m: No TPU devices were found."
          ]
        }
      ],
      "source": [
        "print('Using PyTorch Ver', torch.__version__)\n",
        "print('Fix Seed:', args['random_seed'])\n",
        "seed_everything(args['random_seed'])\n",
        "\n",
        "model = QAModel(**args)\n",
        "\n",
        "trainer = Trainer(\n",
        "    callbacks=[lr_callback,\n",
        "               checkpoint_callback],\n",
        "    log_every_n_steps=16,  # Logging frequency of **learning rate**\n",
        "    max_epochs=args['epochs'],\n",
        "    fast_dev_run=args['test_mode'],\n",
        "    num_sanity_val_steps=None if args['test_mode'] else 0,\n",
        "    # For GPU Setup\n",
        "    # deterministic=torch.cuda.is_available(),\n",
        "    # gpus=[0] if torch.cuda.is_available() else None,  # Use one GPU (idx 0)\n",
        "    # precision=16 if args['fp16'] and torch.cuda.is_available() else 32,\n",
        "    # For TPU Setup\n",
        "    tpu_cores=args['tpu_cores'] if args['tpu_cores'] else None,\n",
        ")"
      ]
    },
    {
      "cell_type": "code",
      "execution_count": null,
      "metadata": {
        "id": "Es7nKQ3w26vq"
      },
      "outputs": [],
      "source": [
        "print(':: Start Training ::')\n",
        "trainer.fit(model)"
      ]
    },
    {
      "cell_type": "code",
      "execution_count": null,
      "metadata": {
        "id": "0XbLPtuPY-hJ"
      },
      "outputs": [],
      "source": [
        "%reload_ext tensorboard\n",
        "%tensorboard --logdir lightning_logs"
      ]
    },
    {
      "cell_type": "markdown",
      "metadata": {
        "id": "gqAgK6JVnWQM"
      },
      "source": [
        "## Inference"
      ]
    },
    {
      "cell_type": "code",
      "execution_count": null,
      "metadata": {
        "id": "UTNeTGApNlWf"
      },
      "outputs": [],
      "source": [
        "# Load fine-tuned model from huggingface (fine-tuned by Skelter Labs)\n",
        "# If you are trying to use your model, skip this cell.\n",
        "!apt-get install git-lfs\n",
        "\n",
        "args['pretrained_model'] = 'SkelterLabsInc/bert-base-japanese-jaquad'\n",
        "model = QAModel(**args)"
      ]
    },
    {
      "cell_type": "code",
      "execution_count": null,
      "metadata": {
        "id": "GTpDsD8-bapF"
      },
      "outputs": [],
      "source": [
        "def get_answers(model: AutoModelForQuestionAnswering,\n",
        "                context: str,\n",
        "                question: str,\n",
        "                n_best_size: int = 5,\n",
        "                max_seq_len: int = 384,\n",
        "                doc_stride: int = 128) -> List[Dict[str, Any]]:\n",
        "    valid_answers = []\n",
        "    inputs = model.tokenizer(question, context)\n",
        "    offsets = get_offsets(inputs['input_ids'], context, model.tokenizer,\n",
        "                          model.hparams.norm_form)\n",
        "    question_len = inputs['input_ids'].index(model.tokenizer.sep_token_id) + 1\n",
        "    i = 0\n",
        "    for span, _ in make_spans(\n",
        "            inputs,\n",
        "            question_len=question_len,\n",
        "            max_seq_len=max_seq_len,\n",
        "            stride=doc_stride):\n",
        "        for key, val in span.items():\n",
        "            span[key] = torch.Tensor([val]).type(torch.long)\n",
        "        output = model(**span)\n",
        "        start_logits = output.start_logits[0].cpu().detach().numpy()\n",
        "        end_logits = output.end_logits[0].cpu().detach().numpy()\n",
        "        start_indexes = np.argsort(start_logits)[-1:-n_best_size -\n",
        "                                                 1:-1].tolist()\n",
        "        end_indexes = np.argsort(end_logits)[-1:-n_best_size - 1:-1].tolist()\n",
        "        cur_offsets = offsets[i:]\n",
        "        i += doc_stride\n",
        "        for start_index in start_indexes:\n",
        "            for end_index in end_indexes:\n",
        "                if 0 < start_index <= end_index < len(cur_offsets):\n",
        "                    # We need to refine that test to check the answer is inside\n",
        "                    # the context\n",
        "                    valid_answers.append({\n",
        "                        'score':\n",
        "                            start_logits[start_index] + end_logits[end_index],\n",
        "                        'position': (start_index, end_index),\n",
        "                        'text':\n",
        "                            context[cur_offsets[start_index][0]:\n",
        "                                    cur_offsets[end_index - 1][1] + 1],\n",
        "                    })\n",
        "    if not valid_answers:\n",
        "        return [{\n",
        "            'score': -float('inf'),\n",
        "            'position': (-1, -1),\n",
        "            'text': '',\n",
        "        }]\n",
        "    valid_answers.sort(key=lambda x: x['score'], reverse=True)\n",
        "    return valid_answers[:n_best_size]"
      ]
    },
    {
      "cell_type": "code",
      "execution_count": null,
      "metadata": {
        "id": "0k1DIdDYg5_N"
      },
      "outputs": [],
      "source": [
        "import collections\n",
        "\n",
        "def compute_f1_score(ground_truth_values: List[str],\n",
        "                     prediction_values: List[str]) -> float:\n",
        "    '''Compute f1 score comparing two list of values.'''\n",
        "    common = (\n",
        "        collections.Counter(prediction_values) &\n",
        "        collections.Counter(ground_truth_values))\n",
        "    num_same = sum(common.values())\n",
        "\n",
        "    # No answer case.\n",
        "    if not ground_truth_values or not prediction_values:\n",
        "        return int(ground_truth_values == prediction_values)\n",
        "\n",
        "    if num_same == 0:\n",
        "        return 0.\n",
        "\n",
        "    precision = 1.0 * num_same / len(prediction_values)\n",
        "    recall = 1.0 * num_same / len(ground_truth_values)\n",
        "    f1_score = (2 * precision * recall) / (precision + recall)\n",
        "    return f1_score\n",
        "\n",
        "\n",
        "def char_f1_score(prediction: str, ground_truth: str) -> float:\n",
        "    '''Character F1 score.'''\n",
        "    prediction_tokens = prediction.split()\n",
        "    ground_truth_tokens = ground_truth.split()\n",
        "\n",
        "    # F1 by character\n",
        "    prediction_char = []\n",
        "    for tok in prediction_tokens:\n",
        "        prediction_char.extend(list(tok))\n",
        "\n",
        "    ground_truth_char = []\n",
        "    for tok in ground_truth_tokens:\n",
        "        ground_truth_char.extend(list(tok))\n",
        "    return compute_f1_score(ground_truth_char, prediction_char)"
      ]
    },
    {
      "cell_type": "code",
      "execution_count": 19,
      "metadata": {
        "id": "uKGSIdi0skje"
      },
      "outputs": [
        {
          "name": "stderr",
          "output_type": "stream",
          "text": [
            "Using custom data configuration default\n",
            "Reusing dataset ja_qu_ad (/home/s16991/.cache/huggingface/datasets/SkelterLabsInc___ja_qu_ad/default/0.1.0/5847b2e2ab5e02de284395bb15f87f13eae8f6f6ff1f01e4ee9c5c0dcf8ef8eb)\n"
          ]
        },
        {
          "data": {
            "application/vnd.jupyter.widget-view+json": {
              "model_id": "cd5057691daa4f4fbacfc394b0fd84c2",
              "version_major": 2,
              "version_minor": 0
            },
            "text/plain": [
              "  0%|          | 0/2 [00:00<?, ?it/s]"
            ]
          },
          "metadata": {},
          "output_type": "display_data"
        },
        {
          "name": "stdout",
          "output_type": "stream",
          "text": [
            "Eval 3939 data\n"
          ]
        },
        {
          "ename": "NameError",
          "evalue": "name 'get_answers' is not defined",
          "output_type": "error",
          "traceback": [
            "\u001b[0;31m---------------------------------------------------------------------------\u001b[0m",
            "\u001b[0;31mNameError\u001b[0m                                 Traceback (most recent call last)",
            "\u001b[0;32m/tmp/ipykernel_29581/3816158327.py\u001b[0m in \u001b[0;36m<module>\u001b[0;34m\u001b[0m\n\u001b[1;32m     14\u001b[0m             infer_data['answer'])):\n\u001b[1;32m     15\u001b[0m     \u001b[0manswer\u001b[0m \u001b[0;34m=\u001b[0m \u001b[0manswer\u001b[0m\u001b[0;34m[\u001b[0m\u001b[0;36m0\u001b[0m\u001b[0;34m]\u001b[0m\u001b[0;34m\u001b[0m\u001b[0;34m\u001b[0m\u001b[0m\n\u001b[0;32m---> 16\u001b[0;31m     \u001b[0mpredictions\u001b[0m \u001b[0;34m=\u001b[0m \u001b[0mget_answers\u001b[0m\u001b[0;34m(\u001b[0m\u001b[0mmodel\u001b[0m\u001b[0;34m,\u001b[0m \u001b[0mcontext\u001b[0m\u001b[0;34m=\u001b[0m\u001b[0mcontext\u001b[0m\u001b[0;34m,\u001b[0m \u001b[0mquestion\u001b[0m\u001b[0;34m=\u001b[0m\u001b[0mquestion\u001b[0m\u001b[0;34m)\u001b[0m\u001b[0;34m\u001b[0m\u001b[0;34m\u001b[0m\u001b[0m\n\u001b[0m\u001b[1;32m     17\u001b[0m     \u001b[0mpred_text\u001b[0m \u001b[0;34m=\u001b[0m \u001b[0mpredictions\u001b[0m\u001b[0;34m[\u001b[0m\u001b[0;36m0\u001b[0m\u001b[0;34m]\u001b[0m\u001b[0;34m[\u001b[0m\u001b[0;34m'text'\u001b[0m\u001b[0;34m]\u001b[0m\u001b[0;34m\u001b[0m\u001b[0;34m\u001b[0m\u001b[0m\n\u001b[1;32m     18\u001b[0m     \u001b[0mf1\u001b[0m \u001b[0;34m=\u001b[0m \u001b[0mchar_f1_score\u001b[0m\u001b[0;34m(\u001b[0m\u001b[0mpred_text\u001b[0m\u001b[0;34m,\u001b[0m \u001b[0manswer\u001b[0m\u001b[0;34m)\u001b[0m\u001b[0;34m\u001b[0m\u001b[0;34m\u001b[0m\u001b[0m\n",
            "\u001b[0;31mNameError\u001b[0m: name 'get_answers' is not defined"
          ]
        }
      ],
      "source": [
        "jaquad_dataset = datasets.load_dataset(\n",
        "    args['dataset'], use_auth_token=args['huggingface_auth_token']).flatten()\n",
        "jaquad_dataset = jaquad_dataset.rename_column('answers.text', 'answer')\n",
        "\n",
        "infer_data = jaquad_dataset['validation'][:]\n",
        "\n",
        "cnt = len(infer_data['question'])\n",
        "print(f'Eval {cnt} data')\n",
        "\n",
        "f1_scores = []\n",
        "em = []\n",
        "for i, (context, question, answer) in enumerate(\n",
        "        zip(infer_data['context'], infer_data['question'],\n",
        "            infer_data['answer'])):\n",
        "    answer = answer[0]\n",
        "    predictions = get_answers(model, context=context, question=question)\n",
        "    pred_text = predictions[0]['text']\n",
        "    f1 = char_f1_score(pred_text, answer)\n",
        "    f1_scores.append(f1)\n",
        "    em.append(f1 == 1.)\n",
        "    if i % 200 == 0:\n",
        "        print(f'  {i+1}/{cnt} | EM: {sum(em) / (i+1):.4f}, '\\\n",
        "              + f'F1: {sum(f1_scores) / (i+1):.4f}')\n",
        "        print(f'        (Sample) pred: \"{pred_text}\", answer: \"{answer}\"')\n",
        "print(f'F1 score: {sum(f1_scores) / cnt}')\n",
        "print(f'Exact Match: {sum(em) / cnt}')\n"
      ]
    },
    {
      "cell_type": "markdown",
      "metadata": {
        "id": "khT4Jiln92Tb"
      },
      "source": [
        "## Analysis\n",
        "\n",
        "Following cells generate graphs used in the paper \"JaQuAD: Japanese Question Answering Dataset for Machine Reading Comprehension\""
      ]
    },
    {
      "cell_type": "code",
      "execution_count": 20,
      "metadata": {
        "id": "pzzMnITpcAfO"
      },
      "outputs": [
        {
          "name": "stderr",
          "output_type": "stream",
          "text": [
            "Using custom data configuration default\n",
            "Reusing dataset ja_qu_ad (/home/s16991/.cache/huggingface/datasets/SkelterLabsInc___ja_qu_ad/default/0.1.0/5847b2e2ab5e02de284395bb15f87f13eae8f6f6ff1f01e4ee9c5c0dcf8ef8eb)\n"
          ]
        },
        {
          "data": {
            "application/vnd.jupyter.widget-view+json": {
              "model_id": "0040374f4abd4def9c80241ccb22119b",
              "version_major": 2,
              "version_minor": 0
            },
            "text/plain": [
              "  0%|          | 0/2 [00:00<?, ?it/s]"
            ]
          },
          "metadata": {},
          "output_type": "display_data"
        }
      ],
      "source": [
        "import matplotlib.pyplot as plt\n",
        "import numpy as np\n",
        "import pandas as pd\n",
        "\n",
        "import datasets\n",
        "from transformers import AutoTokenizer\n",
        "\n",
        "\n",
        "args['pretrained_model'] = 'SkelterLabsInc/bert-base-japanese-jaquad'\n",
        "model = QAModel(**args)\n",
        "\n",
        "jaquad = datasets.load_dataset(\n",
        "    args['dataset'],\n",
        "    use_auth_token=args['huggingface_auth_token']).flatten()\n",
        "\n",
        "tokenizer = model.tokenizer"
      ]
    },
    {
      "cell_type": "code",
      "execution_count": 52,
      "metadata": {},
      "outputs": [],
      "source": [
        "train_data = jaquad[\"train\"]\n",
        "train_data.set_format(type='pandas')\n",
        "train = pd.DataFrame(train_data)\n",
        "train \n",
        "# jaquad[\"train\"].set_format(type='pandas')\n",
        "# train_data = jaquad[\"train\"]\n",
        "# train_data = train_data.data\n",
        "# type(train_data)\n",
        "# train = pd.DataFrame(train_data)\n",
        "#jaquad_pd.head()"
      ]
    },
    {
      "cell_type": "markdown",
      "metadata": {
        "id": "tdkqrdc694OI"
      },
      "source": [
        "### Context/Answer lengths"
      ]
    },
    {
      "cell_type": "code",
      "execution_count": 10,
      "metadata": {
        "colab": {
          "base_uri": "https://localhost:8080/"
        },
        "id": "ubY_ftnV916m",
        "outputId": "57efdc26-c7ee-43cc-99b5-ea1e5c6c21e7"
      },
      "outputs": [
        {
          "name": "stderr",
          "output_type": "stream",
          "text": [
            "Token indices sequence length is longer than the specified maximum sequence length for this model (536 > 512). Running this sequence through the model will result in indexing errors\n"
          ]
        }
      ],
      "source": [
        "context_lengths = []\n",
        "question_lengths = []\n",
        "answer_lengths = []\n",
        "\n",
        "for dset in jaquad.values():\n",
        "    for batch in dset:\n",
        "        context_tokens = tokenizer(batch['context'])['input_ids']\n",
        "        context_lengths.append(len(context_tokens) - 2)\n",
        "        question_tokens = tokenizer(batch['question'])['input_ids']\n",
        "        question_lengths.append(len(question_tokens) - 2)\n",
        "        answer_tokens = tokenizer(batch['answers.text'][0])['input_ids']\n",
        "        answer_lengths.append(len(answer_tokens) - 2)"
      ]
    },
    {
      "cell_type": "code",
      "execution_count": 11,
      "metadata": {
        "colab": {
          "base_uri": "https://localhost:8080/",
          "height": 265
        },
        "id": "15dPWXpLgM00",
        "outputId": "86dbbb3c-3d13-4740-b89f-cbf137cfc9c5"
      },
      "outputs": [
        {
          "data": {
            "image/png": "[encoded data removed]",
            "text/plain": [
              "<Figure size 432x288 with 1 Axes>"
            ]
          },
          "metadata": {
            "needs_background": "light"
          },
          "output_type": "display_data"
        }
      ],
      "source": [
        "### Context lengths\n",
        "\n",
        "bin_size = 100\n",
        "bins = range(1, max(context_lengths) + bin_size, bin_size)\n",
        "plt.hist(context_lengths,\n",
        "         bins,\n",
        "         density=False,\n",
        "         facecolor='g',\n",
        "         alpha=0.5)\n",
        "plt.show()"
      ]
    },
    {
      "cell_type": "code",
      "execution_count": 12,
      "metadata": {
        "id": "MpvnzjoIx1lt"
      },
      "outputs": [
        {
          "data": {
            "text/plain": [
              "(0, 100]         2422\n",
              "(100, 200]       9871\n",
              "(200, 300]      10921\n",
              "(300, 400]       6899\n",
              "(400, 500]       3515\n",
              "(500, 600]       1050\n",
              "(600, 700]        467\n",
              "(700, 800]        266\n",
              "(800, 900]        262\n",
              "(900, 1000]         5\n",
              "(1000, 1100]        6\n",
              "(1100, 1200]        3\n",
              "Name: bin, dtype: int64"
            ]
          },
          "execution_count": 12,
          "metadata": {},
          "output_type": "execute_result"
        }
      ],
      "source": [
        "bins = range(0, max(context_lengths) + bin_size, bin_size)\n",
        "df = pd.DataFrame({'context_lengths': context_lengths})\n",
        "df['bin'] = pd.cut(df.context_lengths, bins)\n",
        "df.bin.value_counts().sort_index()"
      ]
    },
    {
      "cell_type": "code",
      "execution_count": 13,
      "metadata": {
        "colab": {
          "base_uri": "https://localhost:8080/",
          "height": 265
        },
        "id": "YP-rRk6FmrGo",
        "outputId": "f4ed8639-e07c-4adc-d5ce-96c959947611"
      },
      "outputs": [
        {
          "data": {
            "image/png": "[encoded data removed]",
            "text/plain": [
              "<Figure size 432x288 with 1 Axes>"
            ]
          },
          "metadata": {
            "needs_background": "light"
          },
          "output_type": "display_data"
        }
      ],
      "source": [
        "### Question lengths\n",
        "\n",
        "bin_size = 10\n",
        "bins = range(1, max(question_lengths) + bin_size, bin_size)\n",
        "plt.hist(question_lengths,\n",
        "        bins,\n",
        "        density=False,\n",
        "        facecolor='r',\n",
        "        alpha=0.5)\n",
        "plt.show()"
      ]
    },
    {
      "cell_type": "code",
      "execution_count": 14,
      "metadata": {
        "id": "KTgMc7xXbC04"
      },
      "outputs": [
        {
          "data": {
            "text/plain": [
              "(0, 10]        1623\n",
              "(10, 20]      18041\n",
              "(20, 30]      11767\n",
              "(30, 40]       3224\n",
              "(40, 50]        759\n",
              "(50, 60]        176\n",
              "(60, 70]         67\n",
              "(70, 80]         18\n",
              "(80, 90]          5\n",
              "(90, 100]         2\n",
              "(100, 110]        1\n",
              "(110, 120]        4\n",
              "Name: bin, dtype: int64"
            ]
          },
          "execution_count": 14,
          "metadata": {},
          "output_type": "execute_result"
        }
      ],
      "source": [
        "bins = range(0, max(question_lengths) + bin_size, bin_size)\n",
        "df = pd.DataFrame({'question_lengths': question_lengths})\n",
        "df['bin'] = pd.cut(df.question_lengths, bins)\n",
        "df.bin.value_counts().sort_index()"
      ]
    },
    {
      "cell_type": "code",
      "execution_count": 15,
      "metadata": {
        "colab": {
          "base_uri": "https://localhost:8080/",
          "height": 265
        },
        "id": "EQl_S6-VEtDX",
        "outputId": "598e87d1-c17c-4358-d68b-c984da1d0d2c"
      },
      "outputs": [
        {
          "data": {
            "image/png": "[encoded data removed]",
            "text/plain": [
              "<Figure size 432x288 with 1 Axes>"
            ]
          },
          "metadata": {
            "needs_background": "light"
          },
          "output_type": "display_data"
        }
      ],
      "source": [
        "### Answer lengths\n",
        "\n",
        "bin_size = 2\n",
        "bins = range(1, max(answer_lengths) + bin_size, bin_size)\n",
        "plt.hist([a for a in answer_lengths if a <= 20],\n",
        "         bins[:10],\n",
        "         density=False,\n",
        "         facecolor='b',\n",
        "         alpha=0.5)\n",
        "plt.xticks(bins[:10])\n",
        "plt.show()"
      ]
    },
    {
      "cell_type": "code",
      "execution_count": 16,
      "metadata": {
        "id": "psu7iHwf0N38"
      },
      "outputs": [
        {
          "data": {
            "text/plain": [
              "(0, 2]      15908\n",
              "(2, 4]      12389\n",
              "(4, 6]       4908\n",
              "(6, 8]       1569\n",
              "(8, 10]       535\n",
              "(10, 12]      170\n",
              "(12, 14]       79\n",
              "(14, 16]       49\n",
              "(16, 18]       35\n",
              "(18, 20]       12\n",
              "(20, 22]        8\n",
              "(22, 24]        5\n",
              "(24, 26]        5\n",
              "(28, 30]        4\n",
              "(30, 32]        3\n",
              "(38, 40]        2\n",
              "(34, 36]        2\n",
              "(32, 34]        1\n",
              "(40, 42]        1\n",
              "(68, 70]        1\n",
              "(26, 28]        1\n",
              "(42, 44]        0\n",
              "(44, 46]        0\n",
              "(46, 48]        0\n",
              "(48, 50]        0\n",
              "(50, 52]        0\n",
              "(36, 38]        0\n",
              "(54, 56]        0\n",
              "(56, 58]        0\n",
              "(58, 60]        0\n",
              "(60, 62]        0\n",
              "(62, 64]        0\n",
              "(64, 66]        0\n",
              "(66, 68]        0\n",
              "(52, 54]        0\n",
              "Name: bin, dtype: int64"
            ]
          },
          "execution_count": 16,
          "metadata": {},
          "output_type": "execute_result"
        }
      ],
      "source": [
        "bins = range(0, max(answer_lengths) + bin_size, bin_size)\n",
        "\n",
        "df = pd.DataFrame({'answer_lengths': answer_lengths})\n",
        "df['bin'] = pd.cut(df.answer_lengths, bins)\n",
        "df.bin.value_counts()"
      ]
    },
    {
      "cell_type": "markdown",
      "metadata": {
        "id": "jcOaM1HQHo4e"
      },
      "source": [
        "### Performance by question/answer types and answer_lengths"
      ]
    },
    {
      "cell_type": "code",
      "execution_count": 17,
      "metadata": {
        "id": "Lp9TACgPMYZG"
      },
      "outputs": [],
      "source": [
        "dev_answer_lengths = []\n",
        "for datum in jaquad['validation']:\n",
        "    answer = tokenizer(datum['answers.text'])['input_ids']\n",
        "    dev_answer_lengths.append(len(answer) - 2)"
      ]
    },
    {
      "cell_type": "code",
      "execution_count": 18,
      "metadata": {
        "id": "LczWxMSnH02f"
      },
      "outputs": [
        {
          "ename": "NameError",
          "evalue": "name 'f1_scores' is not defined",
          "output_type": "error",
          "traceback": [
            "\u001b[0;31m---------------------------------------------------------------------------\u001b[0m",
            "\u001b[0;31mNameError\u001b[0m                                 Traceback (most recent call last)",
            "\u001b[0;32m/tmp/ipykernel_29581/3411856291.py\u001b[0m in \u001b[0;36m<module>\u001b[0;34m\u001b[0m\n\u001b[1;32m      3\u001b[0m     \u001b[0;34m'answer_type'\u001b[0m\u001b[0;34m:\u001b[0m \u001b[0;34m[\u001b[0m\u001b[0mtyp\u001b[0m\u001b[0;34m[\u001b[0m\u001b[0;36m0\u001b[0m\u001b[0;34m]\u001b[0m \u001b[0;32mfor\u001b[0m \u001b[0mtyp\u001b[0m \u001b[0;32min\u001b[0m \u001b[0mjaquad\u001b[0m\u001b[0;34m[\u001b[0m\u001b[0;34m'validation'\u001b[0m\u001b[0;34m]\u001b[0m\u001b[0;34m[\u001b[0m\u001b[0;34m'answers.answer_type'\u001b[0m\u001b[0;34m]\u001b[0m\u001b[0;34m]\u001b[0m\u001b[0;34m,\u001b[0m\u001b[0;34m\u001b[0m\u001b[0;34m\u001b[0m\u001b[0m\n\u001b[1;32m      4\u001b[0m     \u001b[0;34m'answer_len'\u001b[0m\u001b[0;34m:\u001b[0m \u001b[0mdev_answer_lengths\u001b[0m\u001b[0;34m,\u001b[0m\u001b[0;34m\u001b[0m\u001b[0;34m\u001b[0m\u001b[0m\n\u001b[0;32m----> 5\u001b[0;31m     \u001b[0;34m'f1'\u001b[0m\u001b[0;34m:\u001b[0m \u001b[0mf1_scores\u001b[0m\u001b[0;34m,\u001b[0m\u001b[0;34m\u001b[0m\u001b[0;34m\u001b[0m\u001b[0m\n\u001b[0m\u001b[1;32m      6\u001b[0m     \u001b[0;34m'em'\u001b[0m\u001b[0;34m:\u001b[0m \u001b[0mem\u001b[0m\u001b[0;34m,\u001b[0m\u001b[0;34m\u001b[0m\u001b[0;34m\u001b[0m\u001b[0m\n\u001b[1;32m      7\u001b[0m })\n",
            "\u001b[0;31mNameError\u001b[0m: name 'f1_scores' is not defined"
          ]
        }
      ],
      "source": [
        "df = pd.DataFrame({\n",
        "    'question_type': jaquad['validation']['question_type'],\n",
        "    'answer_type': [typ[0] for typ in jaquad['validation']['answers.answer_type']],\n",
        "    'answer_len': dev_answer_lengths,\n",
        "    'f1': f1_scores,\n",
        "    'em': em,\n",
        "})"
      ]
    },
    {
      "cell_type": "code",
      "execution_count": null,
      "metadata": {
        "id": "HsJ2gKRoH6Bq"
      },
      "outputs": [],
      "source": [
        "df[['question_type', 'f1', 'em']].groupby(by='question_type').mean()"
      ]
    },
    {
      "cell_type": "code",
      "execution_count": null,
      "metadata": {
        "id": "5_nM9S4TLt3K"
      },
      "outputs": [],
      "source": [
        "df[['answer_type', 'f1', 'em']].groupby(by='answer_type').mean()"
      ]
    },
    {
      "cell_type": "code",
      "execution_count": null,
      "metadata": {
        "id": "ZxlfAcEGH8eq"
      },
      "outputs": [],
      "source": [
        "bins = 2\n",
        "\n",
        "df['answer_len_bin'] = (df['answer_len']-1) // bins * bins\n",
        "df['answer_len_bin'][df.answer_len_bin >= 8] = 8\n",
        "df['answer_len_bin'] = df['answer_len_bin'].apply(lambda x: f'{x+1:02d}-{x+bins:02d}')\n",
        "df[['answer_len_bin', 'f1', 'em']].groupby(by='answer_len_bin').mean()"
      ]
    }
  ],
  "metadata": {
    "accelerator": "TPU",
    "colab": {
      "collapsed_sections": [],
      "machine_shape": "hm",
      "name": "JaQuAD.ipynb",
      "provenance": []
    },
    "kernelspec": {
      "display_name": "Python 3",
      "name": "python3"
    },
    "language_info": {
      "codemirror_mode": {
        "name": "ipython",
        "version": 3
      },
      "file_extension": ".py",
      "mimetype": "text/x-python",
      "name": "python",
      "nbconvert_exporter": "python",
      "pygments_lexer": "ipython3",
      "version": "3.7.12"
    }
  },
  "nbformat": 4,
  "nbformat_minor": 0
}
