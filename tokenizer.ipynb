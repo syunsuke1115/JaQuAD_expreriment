{
 "cells": [
  {
   "cell_type": "code",
   "execution_count": 15,
   "metadata": {},
   "outputs": [
    {
     "name": "stdout",
     "output_type": "stream",
     "text": [
      "cuda:0\n"
     ]
    }
   ],
   "source": [
    "import os\n",
    "import string\n",
    "import unicodedata\n",
    "from typing import Any, Dict, Iterator, List, Tuple, Union\n",
    "import random\n",
    "import pandas as pd\n",
    "\n",
    "import datasets\n",
    "import numpy as np\n",
    "from pytorch_lightning import LightningModule, Trainer, seed_everything\n",
    "import torch\n",
    "from torch.utils.data import TensorDataset, random_split\n",
    "from torch.utils.data import DataLoader, RandomSampler, SequentialSampler\n",
    "from torch.optim import lr_scheduler\n",
    "from transformers import BertJapaneseTokenizer,ElectraTokenizer,T5Tokenizer\n",
    "import transformers \n",
    "from transformers import RobertaTokenizer, RobertaModel\n",
    "from pytorch_lightning.loggers import WandbLogger\n",
    "from pytorch_lightning import callbacks\n",
    "from pytorch_lightning import loggers\n",
    "from transformers import AutoModelForQuestionAnswering, AutoTokenizer, AdamW\n",
    "device = torch.device(\"cuda:0\" if torch.cuda.is_available() else \"cpu\")\n",
    "print(device)"
   ]
  },
  {
   "cell_type": "code",
   "execution_count": 16,
   "metadata": {},
   "outputs": [],
   "source": [
    "args = {\n",
    "    'random_seed': 42,  # Random Seed\n",
    "    # Transformers PLM name.\n",
    "    'pretrained_model': 'cl-tohoku/bert-base-japanese-whole-word-masking',\n",
    "    # Optional, Transformers Tokenizer name. Overrides `pretrained_model`\n",
    "    'pretrained_tokenizer': 'cl-tohoku/bert-base-japanese-whole-word-masking',\n",
    "    'norm_form': 'NFKC',\n",
    "    'batch_size': 8,  # <=32 for TPUv2-8\n",
    "    'lr': 2e-5,  # Learning Rate\n",
    "    'max_length': 384,  # Max Length input size\n",
    "    'doc_stride': 128,  # The interval of the context when splitting is needed\n",
    "    'epochs': 3,  # Max Epochs\n",
    "    'dataset': 'SkelterLabsInc/JaQuAD',\n",
    "    'huggingface_auth_token': None,\n",
    "    'test_mode': False,  # Test Mode enables `fast_dev_run`\n",
    "    'optimizer': 'AdamW',\n",
    "    'weight_decay': 0.01,  # Weight decaying parameter for AdamW\n",
    "    'lr_scheduler': 'warmup_lin',\n",
    "    'warmup_ratio': 0.1,\n",
    "    'fp16': False,  # Enable train on FP16 (if GPU)\n",
    "    'tpu_cores': 8,  # Enable TPU with 1 core or 8 cores\n",
    "    'cpu_workers': os.cpu_count(), #questionとcontextを合わせた最大語数。今回のデータセットは1300は超えない\n",
    "    'note':\"リクルートベースライン\",\n",
    "}\n",
    "\n",
    "args\n",
    "\n",
    "#seed値を固定\n",
    "def set_seed(seed =42):\n",
    "    random.seed(seed)\n",
    "    os.environ['PYTHONHASHSEED'] = str(seed)\n",
    "    np.random.seed(seed)\n",
    "    torch.manual_seed(seed)\n",
    "    torch.cuda.manual_seed(seed)\n",
    "    torch.backends.cudnn.deterministic =True\n",
    "set_seed(seed=args[\"random_seed\"])"
   ]
  },
  {
   "cell_type": "code",
   "execution_count": 17,
   "metadata": {},
   "outputs": [
    {
     "name": "stderr",
     "output_type": "stream",
     "text": [
      "Using custom data configuration default\n",
      "Reusing dataset ja_qu_ad (/home/s16991/.cache/huggingface/datasets/SkelterLabsInc___ja_qu_ad/default/0.1.0/5847b2e2ab5e02de284395bb15f87f13eae8f6f6ff1f01e4ee9c5c0dcf8ef8eb)\n"
     ]
    },
    {
     "data": {
      "application/vnd.jupyter.widget-view+json": {
       "model_id": "c34e2f9ff8534f2cb1a3ebc91a95fc1f",
       "version_major": 2,
       "version_minor": 0
      },
      "text/plain": [
       "  0%|          | 0/2 [00:00<?, ?it/s]"
      ]
     },
     "metadata": {},
     "output_type": "display_data"
    },
    {
     "data": {
      "text/html": [
       "<div>\n",
       "<style scoped>\n",
       "    .dataframe tbody tr th:only-of-type {\n",
       "        vertical-align: middle;\n",
       "    }\n",
       "\n",
       "    .dataframe tbody tr th {\n",
       "        vertical-align: top;\n",
       "    }\n",
       "\n",
       "    .dataframe thead th {\n",
       "        text-align: right;\n",
       "    }\n",
       "</style>\n",
       "<table border=\"1\" class=\"dataframe\">\n",
       "  <thead>\n",
       "    <tr style=\"text-align: right;\">\n",
       "      <th></th>\n",
       "      <th>id</th>\n",
       "      <th>title</th>\n",
       "      <th>context</th>\n",
       "      <th>question</th>\n",
       "      <th>question_type</th>\n",
       "      <th>answer</th>\n",
       "      <th>answer_start</th>\n",
       "      <th>answer_type</th>\n",
       "    </tr>\n",
       "  </thead>\n",
       "  <tbody>\n",
       "    <tr>\n",
       "      <th>0</th>\n",
       "      <td>tr-000-00-000</td>\n",
       "      <td>手塚治虫</td>\n",
       "      <td>手塚治虫(てづかおさむ、本名:手塚治(読み同じ)、1928年(昭和3年)11月3日-1989...</td>\n",
       "      <td>戦後日本のストーリー漫画の第一人者で、医学博士の一面もある漫画家は誰?</td>\n",
       "      <td>Multiple sentence reasoning</td>\n",
       "      <td>[手塚治虫]</td>\n",
       "      <td>[0]</td>\n",
       "      <td>[Person]</td>\n",
       "    </tr>\n",
       "    <tr>\n",
       "      <th>1</th>\n",
       "      <td>tr-000-00-001</td>\n",
       "      <td>手塚治虫</td>\n",
       "      <td>手塚治虫(てづかおさむ、本名:手塚治(読み同じ)、1928年(昭和3年)11月3日-1989...</td>\n",
       "      <td>手塚治虫の出身地はどこになりますか?</td>\n",
       "      <td>Syntactic variation</td>\n",
       "      <td>[兵庫県宝塚市]</td>\n",
       "      <td>[130]</td>\n",
       "      <td>[Location]</td>\n",
       "    </tr>\n",
       "    <tr>\n",
       "      <th>2</th>\n",
       "      <td>tr-000-01-000</td>\n",
       "      <td>手塚治虫</td>\n",
       "      <td>大阪帝国大学附属医学専門部在学中の1946年1月1日に4コマ漫画『マアチャンの日記帳』(『少...</td>\n",
       "      <td>手塚治虫の漫画家としてのデビュー作は何かな?</td>\n",
       "      <td>Lexical variation (synonymy)</td>\n",
       "      <td>[『マアチャンの日記帳』]</td>\n",
       "      <td>[32]</td>\n",
       "      <td>[Object]</td>\n",
       "    </tr>\n",
       "    <tr>\n",
       "      <th>3</th>\n",
       "      <td>tr-000-01-001</td>\n",
       "      <td>手塚治虫</td>\n",
       "      <td>大阪帝国大学附属医学専門部在学中の1946年1月1日に4コマ漫画『マアチャンの日記帳』(『少...</td>\n",
       "      <td>1947年に大阪に赤本ブームが起こったのはなぜ?</td>\n",
       "      <td>Syntactic variation</td>\n",
       "      <td>[『新寶島』がベストセラーとなり]</td>\n",
       "      <td>[90]</td>\n",
       "      <td>[Cause]</td>\n",
       "    </tr>\n",
       "    <tr>\n",
       "      <th>4</th>\n",
       "      <td>tr-000-01-002</td>\n",
       "      <td>手塚治虫</td>\n",
       "      <td>大阪帝国大学附属医学専門部在学中の1946年1月1日に4コマ漫画『マアチャンの日記帳』(『少...</td>\n",
       "      <td>日本で一番初めに30分枠のテレビアニメとなった作品名は何?</td>\n",
       "      <td>Lexical variation (synonymy)</td>\n",
       "      <td>[『鉄腕アトム』]</td>\n",
       "      <td>[213]</td>\n",
       "      <td>[Object]</td>\n",
       "    </tr>\n",
       "  </tbody>\n",
       "</table>\n",
       "</div>"
      ],
      "text/plain": [
       "              id title                                            context  \\\n",
       "0  tr-000-00-000  手塚治虫  手塚治虫(てづかおさむ、本名:手塚治(読み同じ)、1928年(昭和3年)11月3日-1989...   \n",
       "1  tr-000-00-001  手塚治虫  手塚治虫(てづかおさむ、本名:手塚治(読み同じ)、1928年(昭和3年)11月3日-1989...   \n",
       "2  tr-000-01-000  手塚治虫  大阪帝国大学附属医学専門部在学中の1946年1月1日に4コマ漫画『マアチャンの日記帳』(『少...   \n",
       "3  tr-000-01-001  手塚治虫  大阪帝国大学附属医学専門部在学中の1946年1月1日に4コマ漫画『マアチャンの日記帳』(『少...   \n",
       "4  tr-000-01-002  手塚治虫  大阪帝国大学附属医学専門部在学中の1946年1月1日に4コマ漫画『マアチャンの日記帳』(『少...   \n",
       "\n",
       "                              question                 question_type  \\\n",
       "0  戦後日本のストーリー漫画の第一人者で、医学博士の一面もある漫画家は誰?   Multiple sentence reasoning   \n",
       "1                   手塚治虫の出身地はどこになりますか?           Syntactic variation   \n",
       "2               手塚治虫の漫画家としてのデビュー作は何かな?  Lexical variation (synonymy)   \n",
       "3             1947年に大阪に赤本ブームが起こったのはなぜ?           Syntactic variation   \n",
       "4        日本で一番初めに30分枠のテレビアニメとなった作品名は何?  Lexical variation (synonymy)   \n",
       "\n",
       "              answer answer_start answer_type  \n",
       "0             [手塚治虫]          [0]    [Person]  \n",
       "1           [兵庫県宝塚市]        [130]  [Location]  \n",
       "2      [『マアチャンの日記帳』]         [32]    [Object]  \n",
       "3  [『新寶島』がベストセラーとなり]         [90]     [Cause]  \n",
       "4          [『鉄腕アトム』]        [213]    [Object]  "
      ]
     },
     "execution_count": 17,
     "metadata": {},
     "output_type": "execute_result"
    }
   ],
   "source": [
    "datasetdict = datasets.load_dataset(\n",
    "    args['dataset'], use_auth_token=args['huggingface_auth_token'])\n",
    "datasetdict = datasetdict.flatten()\\\n",
    "            .rename_column('answers.text', 'answer')\\\n",
    "            .rename_column('answers.answer_start', 'answer_start')\\\n",
    "            .rename_column('answers.answer_type', 'answer_type')\n",
    "train =pd.DataFrame(datasetdict['train'][:].values(), index=datasetdict['train'][:].keys()).T\n",
    "train.head()"
   ]
  },
  {
   "cell_type": "code",
   "execution_count": 6,
   "metadata": {},
   "outputs": [
    {
     "data": {
      "text/plain": [
       "['手塚治虫(てづかおさむ、本名:手塚治(読み同じ)、1928年(昭和3年)11月3日-1989年(平成元年)2月9日)は、日本の漫画家、アニメーター、アニメ監督である。\\n戦後日本においてストーリー漫画の第一人者として、漫画表現の開拓者的な存在として活躍した。\\n\\n兵庫県宝塚市出身(出生は大阪府豊能郡豊中町、現在の豊中市)同市名誉市民である。\\n大阪帝国大学附属医学専門部を卒業。\\n医師免許取得のち医学博士(奈良県立医科大学・1961年)。']"
      ]
     },
     "execution_count": 6,
     "metadata": {},
     "output_type": "execute_result"
    }
   ],
   "source": [
    "sample_context= [train[\"context\"][0],train[\"context\"][100],train[\"context\"][200]]\n",
    "sample_context= [train[\"context\"][0]]\n",
    "sample_context"
   ]
  },
  {
   "cell_type": "code",
   "execution_count": 7,
   "metadata": {},
   "outputs": [
    {
     "name": "stderr",
     "output_type": "stream",
     "text": [
      "The `xla_device` argument has been deprecated in v4.4.0 of Transformers. It is ignored and you can safely remove it from your `config.json` file.\n",
      "The `xla_device` argument has been deprecated in v4.4.0 of Transformers. It is ignored and you can safely remove it from your `config.json` file.\n",
      "The `xla_device` argument has been deprecated in v4.4.0 of Transformers. It is ignored and you can safely remove it from your `config.json` file.\n",
      "The `xla_device` argument has been deprecated in v4.4.0 of Transformers. It is ignored and you can safely remove it from your `config.json` file.\n",
      "The `xla_device` argument has been deprecated in v4.4.0 of Transformers. It is ignored and you can safely remove it from your `config.json` file.\n",
      "The `xla_device` argument has been deprecated in v4.4.0 of Transformers. It is ignored and you can safely remove it from your `config.json` file.\n",
      "The `xla_device` argument has been deprecated in v4.4.0 of Transformers. It is ignored and you can safely remove it from your `config.json` file.\n",
      "The `xla_device` argument has been deprecated in v4.4.0 of Transformers. It is ignored and you can safely remove it from your `config.json` file.\n",
      "The `xla_device` argument has been deprecated in v4.4.0 of Transformers. It is ignored and you can safely remove it from your `config.json` file.\n"
     ]
    }
   ],
   "source": [
    "bert_tokenizer = AutoTokenizer.from_pretrained(\"cl-tohoku/bert-base-japanese-whole-word-masking\")\n",
    "BertJapanese_tokenizer = BertJapaneseTokenizer.from_pretrained(\"cl-tohoku/bert-base-japanese-whole-word-masking\")\n",
    "electra_tokenizer = AutoTokenizer.from_pretrained(\"Cinnamon/electra-small-japanese-generator\")\n",
    "electra_tokenizer = AutoTokenizer.from_pretrained(\"Cinnamon/electra-small-japanese-generator\")\n",
    "electra_tokenizer = AutoTokenizer.from_pretrained(\"Cinnamon/electra-small-japanese-generator\")"
   ]
  },
  {
   "cell_type": "code",
   "execution_count": 9,
   "metadata": {},
   "outputs": [],
   "source": [
    "def tokenizer(pretrained_tokenizer = \"cl-tohoku/bert-base-japanese-whole-word-masking\",Tokenizer= AutoTokenizer,contexts= sample_context):\n",
    "    Tokenizer = Tokenizer.from_pretrained(pretrained_tokenizer)\n",
    "    for i in range(len(contexts)):\n",
    "        print(\"オリジナル\")\n",
    "        print(contexts[i])\n",
    "        print(pretrained_tokenizer)\n",
    "        encoding = Tokenizer.encode(contexts[i])\n",
    "        tokens = Tokenizer.convert_ids_to_tokens(encoding)\n",
    "        print(tokens)\n",
    "        print(\"------------------------------------------------------------------------\")\n",
    "    "
   ]
  },
  {
   "cell_type": "code",
   "execution_count": 18,
   "metadata": {},
   "outputs": [
    {
     "name": "stdout",
     "output_type": "stream",
     "text": [
      "オリジナル\n",
      "手塚治虫(てづかおさむ、本名:手塚治(読み同じ)、1928年(昭和3年)11月3日-1989年(平成元年)2月9日)は、日本の漫画家、アニメーター、アニメ監督である。\n",
      "戦後日本においてストーリー漫画の第一人者として、漫画表現の開拓者的な存在として活躍した。\n",
      "\n",
      "兵庫県宝塚市出身(出生は大阪府豊能郡豊中町、現在の豊中市)同市名誉市民である。\n",
      "大阪帝国大学附属医学専門部を卒業。\n",
      "医師免許取得のち医学博士(奈良県立医科大学・1961年)。\n",
      "cl-tohoku/bert-base-japanese-whole-word-masking\n",
      "['[CLS]', '手塚', '治虫', '(', 'て', 'づか', 'お', 'さ', '##む', '、', '本名', ':', '手塚', '治', '(', '読み', '同じ', ')、', '1928', '年', '(', '昭和', '3', '年', ')', '11', '月', '3', '日', '-', '1989', '年', '(', '平成', '元年', ')', '2', '月', '9', '日', ')', 'は', '、', '日本', 'の', '漫画', '家', '、', 'アニメーター', '、', 'アニメ', '監督', 'で', 'ある', '。', '戦後', '日本', 'において', 'ストーリー', '漫画', 'の', '第一人者', 'として', '、', '漫画', '表現', 'の', '開拓', '者', '的', 'な', '存在', 'として', '活躍', 'し', 'た', '。', '兵庫', '県', '宝塚', '市', '出身', '(', '出生', 'は', '大阪', '府', '豊', '##能', '郡', '豊中', '町', '、', '現在', 'の', '豊中', '市', ')', '同市', '名誉', '市民', 'で', 'ある', '。', '大阪', '帝国', '大学', '附属', '医学', '専門', '部', 'を', '卒業', '。', '医師', '免許', '取得', 'のち', '医学', '博士', '(', '奈良', '##県立', '##医科大学', '・', '1961', '年', ')。', '[SEP]']\n",
      "------------------------------------------------------------------------\n",
      "オリジナル\n",
      "手塚治虫(てづかおさむ、本名:手塚治(読み同じ)、1928年(昭和3年)11月3日-1989年(平成元年)2月9日)は、日本の漫画家、アニメーター、アニメ監督である。\n",
      "戦後日本においてストーリー漫画の第一人者として、漫画表現の開拓者的な存在として活躍した。\n",
      "\n",
      "兵庫県宝塚市出身(出生は大阪府豊能郡豊中町、現在の豊中市)同市名誉市民である。\n",
      "大阪帝国大学附属医学専門部を卒業。\n",
      "医師免許取得のち医学博士(奈良県立医科大学・1961年)。\n",
      "rinna/japanese-roberta-base\n",
      "['▁', '手塚治虫', '(', 'て', 'づか', 'おさ', 'む', '、', '本名', ':', '手塚', '治', '(', '読み', '同じ', ')', '、1928', '年', '(', '昭和', '3', '年', ')11', '月', '3', '日', '-', '1989', '年', '(', '平成元年', ')', '2', '月', '9', '日', ')', 'は', '、', '日本の漫画家', '、', 'アニメーター', '、', 'アニメ', '監督', 'である', '。', '▁戦後', '日本において', 'ストーリー', '漫画', 'の第一', '人', '者として', '、', '漫画', '表現', 'の', '開拓者', '的な', '存在', 'として活躍した', '。', '▁', '兵庫県', '宝塚', '市出身', '(', '出生', 'は', '大阪府', '豊', '能', '郡', '豊', '中', '町', '、', '現在の', '豊', '中', '市', ')', '同市', '名誉', '市民', 'である', '。', '▁大阪', '帝国', '大学附属', '医学', '専門', '部', 'を卒業', '。', '▁', '医師', '免許', '取得', 'のち', '医学博士', '(', '奈良県', '立', '医科大学', '・', '1961', '年', ')', '。', '</s>']\n",
      "------------------------------------------------------------------------\n",
      "オリジナル\n",
      "手塚治虫(てづかおさむ、本名:手塚治(読み同じ)、1928年(昭和3年)11月3日-1989年(平成元年)2月9日)は、日本の漫画家、アニメーター、アニメ監督である。\n",
      "戦後日本においてストーリー漫画の第一人者として、漫画表現の開拓者的な存在として活躍した。\n",
      "\n",
      "兵庫県宝塚市出身(出生は大阪府豊能郡豊中町、現在の豊中市)同市名誉市民である。\n",
      "大阪帝国大学附属医学専門部を卒業。\n",
      "医師免許取得のち医学博士(奈良県立医科大学・1961年)。\n",
      "rinna/japanese-roberta-base\n",
      "['▁', '手塚治虫', '(', 'て', 'づか', 'おさ', 'む', '、', '本名', ':', '手塚', '治', '(', '読み', '同じ', ')', '、1928', '年', '(', '昭和', '3', '年', ')11', '月', '3', '日', '-', '1989', '年', '(', '平成元年', ')', '2', '月', '9', '日', ')', 'は', '、', '日本の漫画家', '、', 'アニメーター', '、', 'アニメ', '監督', 'である', '。', '▁戦後', '日本において', 'ストーリー', '漫画', 'の第一', '人', '者として', '、', '漫画', '表現', 'の', '開拓者', '的な', '存在', 'として活躍した', '。', '▁', '兵庫県', '宝塚', '市出身', '(', '出生', 'は', '大阪府', '豊', '能', '郡', '豊', '中', '町', '、', '現在の', '豊', '中', '市', ')', '同市', '名誉', '市民', 'である', '。', '▁大阪', '帝国', '大学附属', '医学', '専門', '部', 'を卒業', '。', '▁', '医師', '免許', '取得', 'のち', '医学博士', '(', '奈良県', '立', '医科大学', '・', '1961', '年', ')', '。', '</s>']\n",
      "------------------------------------------------------------------------\n"
     ]
    }
   ],
   "source": [
    "tokenizer(pretrained_tokenizer = \"cl-tohoku/bert-base-japanese-whole-word-masking\",Tokenizer= AutoTokenizer)\n",
    "tokenizer(pretrained_tokenizer = \"rinna/japanese-roberta-base\",Tokenizer= AutoTokenizer)\n",
    "# tokenizer(pretrained_tokenizer = \"rinna/japanese-roberta-base\",Tokenizer= BertJapaneseTokenizer)\n",
    "tokenizer(pretrained_tokenizer = \"rinna/japanese-roberta-base\",Tokenizer= T5Tokenizer)\n",
    "# tokenizer(pretrained_tokenizer = \"cl-tohoku/bert-base-japanese-whole-word-masking\",Tokenizer= AutoTokenizer)"
   ]
  }
 ],
 "metadata": {
  "interpreter": {
   "hash": "d4d1e4263499bec80672ea0156c357c1ee493ec2b1c70f0acce89fc37c4a6abe"
  },
  "kernelspec": {
   "display_name": "Python 3.7.12 ('base')",
   "language": "python",
   "name": "python3"
  },
  "language_info": {
   "codemirror_mode": {
    "name": "ipython",
    "version": 3
   },
   "file_extension": ".py",
   "mimetype": "text/x-python",
   "name": "python",
   "nbconvert_exporter": "python",
   "pygments_lexer": "ipython3",
   "version": "3.7.12"
  },
  "orig_nbformat": 4
 },
 "nbformat": 4,
 "nbformat_minor": 2
}
